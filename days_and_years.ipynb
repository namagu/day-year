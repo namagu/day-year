{
 "cells": [
  {
   "cell_type": "code",
   "execution_count": 412,
   "id": "20647074-147e-43c9-8882-be82ca089d7a",
   "metadata": {},
   "outputs": [],
   "source": [
    "# import packages\n",
    "import numpy as np\n",
    "import math as math\n",
    "import pandas as pd\n",
    "from astropy import units as u\n",
    "import astropy.constants as const\n",
    "import random\n",
    "import matplotlib.pyplot as plt\n",
    "import os\n",
    "from pylaplace import LaplaceCoefficient\n",
    "from astropy.io import fits\n",
    "from astropy.table import Table, hstack, vstack, Column\n",
    "import itertools\n",
    "#import seaborn as sns; sns.set_theme()"
   ]
  },
  {
   "cell_type": "markdown",
   "id": "445cdae8-be0a-4b58-90b4-c3635507fbf4",
   "metadata": {},
   "source": [
    "# Exploring relationships between planet rotation, obliquity, orbital eccentricity, inclination\n",
    "\n",
    "$|g|$ is the observable nodal precession\n",
    "\n",
    "When $g \\sim \\alpha$, they are _commensurate_ and can excite non-zero obliquity, $\\epsilon$. \n",
    "\n",
    "$g$ is non-zero when there is >1 planets.\n"
   ]
  },
  {
   "cell_type": "markdown",
   "id": "93b7605d-127a-4871-aa70-7733020c4a2f",
   "metadata": {},
   "source": [
    "### $\\alpha(\\omega)$, precession of planet spin axis for a given spin freqency\n",
    "\n",
    "$ \\alpha $ - spin-axis precession constant\n",
    "\n",
    "$ \\epsilon $ - obliquity (of planet!)\n",
    "\n",
    "Period of planet spin precession\n",
    "$$ T_{\\alpha} = \\frac{2\\pi}{\\alpha ~ cos \\epsilon} $$ \n",
    "\n",
    "Caused by torque from host star on rotationally-flattened planet \n",
    "\n",
    "$$ \\alpha = \\frac{1}{2}\\frac{M_{*}}{m_p}\\left(\\frac{R_p}{a}\\right)^3\\frac{k_2}{C}\\omega $$\n",
    "\n",
    "\n"
   ]
  },
  {
   "cell_type": "code",
   "execution_count": 2,
   "id": "b707f858-3b0c-458c-937d-8fd8c262bc53",
   "metadata": {},
   "outputs": [],
   "source": [
    "def get_C(k2):\n",
    "    \"\"\"Calculate C, the moment of inertia, from k2, the Love number\"\"\"\n",
    "    \n",
    "    C = (2/3)*(1 - (2/5)*((5/(k2+1)) - 1)**0.5)\n",
    "    return C"
   ]
  },
  {
   "cell_type": "code",
   "execution_count": 3,
   "id": "49fa156a-6d56-4197-8de9-d3201c805bb1",
   "metadata": {},
   "outputs": [],
   "source": [
    "def get_alpha(omega, mstar, mp, rp, a, k2, C):\n",
    "    \"\"\"\n",
    "    Calculate alpha, spin-axis precession constant for frequency of planet \n",
    "    rotational spin axis precessing around orbit normal\n",
    "    \n",
    "    Input:\n",
    "        omega: spin frequency\n",
    "        \n",
    "    Returns:\n",
    "        alpha: frequency constant in 1/yr\n",
    "    \"\"\"\n",
    "    alpha = 0.5 * (mstar/mp) * (rp/a)**3 * (k2/C) * omega\n",
    "    \n",
    "    return alpha"
   ]
  },
  {
   "cell_type": "code",
   "execution_count": 4,
   "id": "9e42bc1e-ec65-4a3c-964c-a48c34af3e2f",
   "metadata": {
    "tags": []
   },
   "outputs": [
    {
     "name": "stdout",
     "output_type": "stream",
     "text": [
      "Precession of Earth planet spin axis for a given spin freqency:\n",
      "w = 1.99e-07 1 / s\n",
      "alpha(w) = 0.01218 earthRad3 solMass / (AU3 d earthMass)\n",
      "T_a = 5.475e+07 yr \n"
     ]
    }
   ],
   "source": [
    "# planet-star parameters for Earth\n",
    "mstar = 1. * u.M_sun\n",
    "mp = 1. * u.M_earth   # 17 Me Neptune\n",
    "rp = 1. * u.R_earth   # 4 Re Neptune\n",
    "a = 1. * u.astronomical_unit  # 30 AU Neptune\n",
    "k2 = 0.31 # 0.2 * random.random() + 0.2  # Love number, 0.2-0.6 in Solar system\n",
    "C = get_C(k2) # 0.2 * random.random() + 0.2 # moment of inertia normalized to planet\n",
    "Prot = 365 * u.day #24. * u.h  # Jupiter spins once every 10 hours, which should be illegal\n",
    "\n",
    "obl = 23.*np.pi/180. # planet obliquity \n",
    "\n",
    "print(\"Precession of Earth planet spin axis for a given spin freqency:\")\n",
    "\n",
    "# Calculate spin frequency \n",
    "w = (2*np.pi)/(Prot)\n",
    "print(f\"w = {w.to(1/u.s):.3}\")\n",
    "\n",
    "# Calculate precession constant\n",
    "alpha = get_alpha(w, mstar, mp, rp, a, k2, C)\n",
    "print(f\"alpha(w) = {alpha:.4}\")\n",
    "\n",
    "# Calculate planet spin axis precession periodt\n",
    "Ta = (2*np.pi)/(alpha) #* np.cos(obl))\n",
    "print(f\"T_a = {Ta.to(u.yr):.4} \")  "
   ]
  },
  {
   "cell_type": "code",
   "execution_count": 5,
   "id": "b3407b2c-989b-498b-ae11-9acc4bb9093d",
   "metadata": {
    "tags": []
   },
   "outputs": [
    {
     "name": "stdout",
     "output_type": "stream",
     "text": [
      "Earth: alpha = 0.01269739591792899 earthRad3 solMass / (AU3 d earthMass)\n",
      "Neptune: alpha = 2.654808606717459e-06 earthRad3 solMass / (AU3 earthMass yr)\n"
     ]
    }
   ],
   "source": [
    "# Assumming Prot = Porb (tidal locking)\n",
    "# earth\n",
    "earth_alpha = get_alpha((2*np.pi)/(365*u.day), 1*u.M_sun, 1*u.M_earth, 1*u.R_earth, 1*u.astronomical_unit, 0.33, get_C(0.33))\n",
    "# neputne\n",
    "neptune_alpha = get_alpha((2*np.pi)/(165*u.year), 1*u.M_sun, 17*u.M_earth, 4*u.R_earth, 30*u.astronomical_unit, 1, 1)\n",
    "\n",
    "print(f\"Earth: alpha = {earth_alpha}\")\n",
    "print(f\"Neptune: alpha = {neptune_alpha}\")"
   ]
  },
  {
   "cell_type": "markdown",
   "id": "cd59b67f-f426-4711-b69a-a1ad60f23b3e",
   "metadata": {},
   "source": [
    "The values I get for precession period are about 10x larger than the ones in the paper. \n",
    "Unsure why...I suspect units."
   ]
  },
  {
   "cell_type": "markdown",
   "id": "3c6e094a-104d-4f9a-9267-584754cd996a",
   "metadata": {},
   "source": [
    "### Calculating $g_{LL}$, orbit nodal regression (orbit precession) and $\\alpha$, planet spin axis precession for a given system\n",
    "\n",
    "If $g_{LL} \\sim \\alpha$, there is spin-orbit resonance, and that can mean high obliquity :3\n",
    "\n",
    "$$ g_{LL} = -\\frac{1}{4}b_{3/2}^{(1)}(\\alpha_{12})\\alpha_{12}\\left(n_1 \\frac{m_2}{M_{*} + m_1}\\alpha_{12} + n_2\\frac{m_1}{M_* + m_2} \\right)  $$\n",
    "\n",
    "where $\\alpha_{12} = a_1/a_2 $ and $n_i$ is the mean motion of each planet and $b_{3/2}^{(1)}$ is a Laplace coefficient we solve for using `pylaplace`"
   ]
  },
  {
   "cell_type": "code",
   "execution_count": 6,
   "id": "c6183d45-b8d6-4b50-b883-6893d600bb20",
   "metadata": {
    "tags": []
   },
   "outputs": [
    {
     "name": "stdout",
     "output_type": "stream",
     "text": [
      "Saturn-Neptune spin-orbit precession frequency\n",
      "a12 = 0.317217840811187\n",
      "n1 = 6.722e-09 1 / s; n2 = 1.201e-09 1 / s\n",
      "b = -1.1615290163287626\n",
      "g_LL = 1.3169e-06 1 / yr\n",
      "T = 2pi/g = 4.771 Myr\n"
     ]
    }
   ],
   "source": [
    "##############################################\n",
    "##  system information for Saturn-Neptune   ##\n",
    "##############################################\n",
    "print(\"Saturn-Neptune spin-orbit precession frequency\")\n",
    "mstar = 1. * u.M_sun   # Sun\n",
    "m1 = 95.16 * u.M_earth     # Saturn\n",
    "m2 = 17.15 * u.M_earth     # Neptune \n",
    "a1 = 9.573*u.AU    # Saturn\n",
    "a2 = 30.178*u.AU   # Neptune\n",
    "a12 = a1/a2\n",
    "print(f\"a12 = {a12}\")\n",
    "\n",
    "# planet mean-motion\n",
    "n1 = np.sqrt((const.G * mstar)/a1**3)   # Periodt\n",
    "n2 = np.sqrt((const.G * mstar)/a2**3) \n",
    "print(f\"n1 = {n1.decompose():.5}; n2 = {n2.decompose():.5}\")\n",
    "# Laplace coefficient\n",
    "laplace = LaplaceCoefficient()\n",
    "# result = laplace(a, s, m, p, q)\n",
    "# laplace coefficient, dependent on semi-major axis ratio\n",
    "b = laplace(a12.value, 1.5, 1, 1, 1)  \n",
    "print(f\"b = {b}\")\n",
    "\n",
    "# calculate spin-axis precession\n",
    "gll = -0.25*b*a12*( n1*(m2/(mstar+m1))*a12 + n2*(m1/(mstar+m2)) )\n",
    "print(f\"g_LL = {gll.to(1/u.yr):.5}\")\n",
    "print(f\"T = 2pi/g = {((2*np.pi)/gll).to(u.Myr):.4}\")"
   ]
  },
  {
   "cell_type": "code",
   "execution_count": 471,
   "id": "21a31c36-0d8e-48fe-be47-8286c301cdb2",
   "metadata": {
    "tags": []
   },
   "outputs": [
    {
     "name": "stdout",
     "output_type": "stream",
     "text": [
      "Kepler-80/KOI-500 d(1), e(2)\n",
      "a12 = 0.7587719298245613\n",
      "w1 = 2.0452 1 / d \n",
      "w2 = 1.3526 1 / d\n",
      "n1 = 2.0355 1 / d; n2 = 1.3454 1 / d\n",
      "b = -11.6543935473343\n",
      "g_LL = 2.5136e+04 1 / Myr\n",
      "alpha_d = 1.4551e+05 1 / Myr\n",
      "alpha_e = 4.3324e+04 1 / Myr\n"
     ]
    }
   ],
   "source": [
    "##############################################\n",
    "## system information for Kepler-80/KOI-500 ##\n",
    "##############################################\n",
    "print(\"Kepler-80/KOI-500 d(1), e(2)\")\n",
    "mstar = 0.58 * u.M_sun     # Kepler-80\n",
    "m1 = 2.0375316 * u.M_earth     # Kepler-80 d\n",
    "m2 = 2.1171352 * u.M_earth     # Kepler-80 e \n",
    "a1 = 0.0346 * u.astronomical_unit         # Kepler-80 d\n",
    "a2 = 0.0456 * u.astronomical_unit         # Kepler-80 e\n",
    "a12 = a1/a2\n",
    "print(f\"a12 = {a12}\")\n",
    "P1 = 3.0721466 * u.day\n",
    "P2 = 4.6453821 * u.day\n",
    "w1 = (2*np.pi)/ P1 # Kepler-80 d\n",
    "w2 = (2*np.pi)/ P2 # Kepler-80 e\n",
    "print(f\"w1 = {w1:.5} \\nw2 = {w2:.5}\")\n",
    "r1 = 1.3 * u.R_earth\n",
    "r2 = 1.33 * u.R_earth\n",
    "\n",
    "# planet mean-motion\n",
    "n1 = np.sqrt((const.G * mstar)/a1**3)\n",
    "n2 = np.sqrt((const.G * mstar)/a2**3)\n",
    "print(f\"n1 = {n1.to(u.d**-1):.5}; n2 = {n2.to(u.d**-1):.5}\")\n",
    "# Laplace coefficient\n",
    "laplace = LaplaceCoefficient()\n",
    "# result = laplace(a, s, m, p, q)\n",
    "b = laplace(a12.value, 1.5, 1, 1, 1)\n",
    "print(f\"b = {b}\")\n",
    "\n",
    "# calculate spin-axis precession\n",
    "gll = -0.25*b*a12*( n1*(m2/(mstar+m1))*a12 + n2*(m1/(mstar+m2)) )\n",
    "#alpha1 = get_alpha(w1,mstar,m1,r1,a1,1,1).to(u.Myr**-1)\n",
    "#alpha2 = get_alpha(w2,mstar,m2,r2,a2,1,1).to(u.Myr**-1)\n",
    "alpha1 = (0.5 * (mstar/m1) * (r1/a1)**3 * (1/1) * w1).to(u.Myr**-1)\n",
    "alpha2 = (0.5 * (mstar/m2) * (r2/a2)**3 * (1/1) * w2).to(u.Myr**-1)\n",
    "print(f\"g_LL = {gll.to(1/u.Myr):.5}\")\n",
    "print(f\"alpha_d = {alpha1:.5}\")\n",
    "print(f\"alpha_e = {alpha2:.5}\")"
   ]
  },
  {
   "cell_type": "code",
   "execution_count": 472,
   "id": "aa27bd25-8dfa-431a-8c80-3c16ba5f29d3",
   "metadata": {
    "tags": []
   },
   "outputs": [
    {
     "name": "stdout",
     "output_type": "stream",
     "text": [
      "w1 = 2pi/P1 = 2.045210116984517 1 / d, n1 = GMstar/a1^3: 2.0355477287735853 1 / d\n",
      "w2 = 2pi/P2 = 1.3525658755131438 1 / d, n2 = GMstar/a2^3: 1.3453899345260363 1 / d\n"
     ]
    }
   ],
   "source": [
    "# check of w1, w2\n",
    "print(f\"w1 = 2pi/P1 = {w1}, n1 = GMstar/a1^3: {n1.to(u.d**-1)}\")\n",
    "print(f\"w2 = 2pi/P2 = {w2}, n2 = GMstar/a2^3: {n2.to(u.d**-1)}\")"
   ]
  },
  {
   "cell_type": "markdown",
   "id": "17508626-547c-4c27-8757-9410f20ea818",
   "metadata": {
    "tags": []
   },
   "source": [
    "### Find $g, \\alpha, \\epsilon$ for a large set of planets\n",
    "\n",
    "Do this analysis for a large number of M dwarf systems"
   ]
  },
  {
   "cell_type": "code",
   "execution_count": 9,
   "id": "9f9dce2d-494b-4354-ba88-a4a68d4c3269",
   "metadata": {},
   "outputs": [],
   "source": [
    "def get_alpha(omega, mstar, mp, rp, a, k2, C):\n",
    "    \"\"\"\n",
    "    Calculate alpha, spin-axis precession constant for frequency of planet \n",
    "    rotational spin axis precessing around orbit normal\n",
    "    \n",
    "    Input:\n",
    "        omega: spin frequency\n",
    "        \n",
    "    Returns:\n",
    "        alpha: frequency constant in 1/yr\n",
    "    \"\"\"\n",
    "    alpha = 0.5 * (mstar/mp) * (rp/a)**3 * (k2/C) * omega\n",
    "    \n",
    "    return alpha\n"
   ]
  },
  {
   "cell_type": "code",
   "execution_count": 10,
   "id": "ea4cd85c-2f78-4560-bc4a-30faba366881",
   "metadata": {},
   "outputs": [],
   "source": [
    "def get_laplace(x):\n",
    "    \"\"\"Calculate Laplace coefficient given a semimajor axis ratio a1/a2\"\"\"\n",
    "    # Laplace coefficient\n",
    "    laplace = LaplaceCoefficient()\n",
    "    # result = laplace(a, s, m, p, q)\n",
    "    b = laplace(x, 1.5, 1, 1, 1)\n",
    "    return b"
   ]
  },
  {
   "cell_type": "code",
   "execution_count": 244,
   "id": "a9514323-52ea-4d24-b857-a43ace568f0f",
   "metadata": {},
   "outputs": [],
   "source": [
    "# calculate g_LL for pairs of planets\n",
    "def get_gll(sys):\n",
    "    \"\"\"\n",
    "    Calculate nodal precession frequency, g_LL for a system of planets.\n",
    "    \n",
    "    Inputs:\n",
    "       sys, an Astropy Table with the following:\n",
    "           A, semimajor axis (AU)\n",
    "           MP, planet mass (M_earth)\n",
    "           RSTAR, proxy for stellar mass (R_sun -> M_sun )\n",
    "    Returns:\n",
    "        g_LL, numpy array of pairwise g_LL quantities.\n",
    "    \n",
    "    Example for a system of 3 planets, b, c, d:\n",
    "        gll = get_gll(sys)\n",
    "        print(gll)\n",
    "        >>> [ b-c, b-d, c-b, c-d, d-b, d-c ]\n",
    "    \"\"\"\n",
    "    \n",
    "    debug = False\n",
    "    gll_arr = []   # initialize arrays\n",
    "    g_arr = []\n",
    "    # use itertools to go through every pair combo\n",
    "    for i in itertools.permutations(sys, r=2):\n",
    "        # i is a pair (A-B, B-A, etc.)\n",
    "        # set planet parameters\n",
    "        a1, a2 = i[0]['A'] * u.AU, i[1]['A'] * u.AU\n",
    "        P1, P2 = i[0]['PERIOD'] * u.day, i[1]['PERIOD'] * u.day\n",
    "        \n",
    "        if debug: print(f\"a1 = {a1}, a2 = {a2}\")\n",
    "        a12 = a1/a2\n",
    "        if debug: print(f\"a1/a2 = {a12}\")\n",
    "        m1, m2 = i[0]['MP'] * u.M_earth, i[1]['MP'] * u.M_earth\n",
    "        if debug: print(f\"m1 = {m1:.3}, m2 = {m2:.3}\")\n",
    "        # check that MSTAR is the same (within 1%) for each planet\n",
    "        if np.abs((i[0]['RSTAR'] - i[1]['RSTAR'])/i[0]['RSTAR']) < 0.01: \n",
    "            mstar = i[0]['RSTAR'] * u.M_sun\n",
    "            if debug: print(f\"mstar: {mstar:.3}\")\n",
    "        else:\n",
    "            if debug: print(\"averaging RSTAR to get MSTAR\")\n",
    "            mstar = np.mean([pl['RSTAR'] for pl in i]) * u.M_sun\n",
    "        # calculate planet mean-motion, n ( # ni^2 = GMstar/a1^3=(2pi/P1)^2)\n",
    "        n1, n2  = np.sqrt((const.G * mstar)/a1**3), np.sqrt((const.G * mstar)/a2**3)\n",
    "        if debug: print(f\"n1 = {n1:.3}, n2 = {n2:.3}\")\n",
    "        # calculate laplace coeff\n",
    "        b12 = get_laplace(a12.value)\n",
    "        if debug: print(f\"b12 = {b12:.3}\")  \n",
    "        # calculate gll\n",
    "        gll = -0.25 * b12 * a12 * (n1*(m2/(mstar + m1))*a12 + n2*(m1/(mstar + m2)))\n",
    "        if debug: print(f\"1: {i[0]['NAME']} on 2: {i[1]['NAME']} g_ll = {gll.to(u.yr**-1):.3}\")\n",
    "        \n",
    "        # calculate alpha_sys/g\n",
    "        # g/gll = 1 unless p2/p1 is 1.5-1.55 or 2-2.05, then g/gll=0.3-1.0\n",
    "        if ((P2/P1 < 1.55) & (P2/P1 > 1.5)) | ((P2/P1 < 2.05) & (P2/P1 > 2.0)):\n",
    "            if debug: print(f\"P2/P1 = {P2/P1:.4}, g = 0.3-1.0 * gll\")\n",
    "            g = gll*(np.random.rand()*(1. - 0.3) + 0.3)\n",
    "        else:\n",
    "            if debug: print(f\"P2/P1 = {P2/P1:.4}, g = 1 * gll\")\n",
    "            g = gll\n",
    "        gll_arr.append(gll.to(u.yr**-1))   # save to array\n",
    "        g_arr.append(g.to(u.yr**-1))\n",
    "\n",
    "    gll_arr = np.array(gll_arr, dtype=u.Quantity)  # convert to np array for ease.\n",
    "    g_arr = np.array(g_arr, dtype=u.Quantity)\n",
    "    \n",
    "    return gll_arr, g_arr"
   ]
  },
  {
   "cell_type": "code",
   "execution_count": 492,
   "id": "55e53fed-9865-4e88-bf6a-746e6f8f200d",
   "metadata": {},
   "outputs": [
    {
     "data": {
      "text/plain": [
       "array([['bc', 'bd', 'be', 'bf', 'bg', 'bh'],\n",
       "       ['cb', 'cd', 'ce', 'cf', 'cg', 'ch'],\n",
       "       ['db', 'dc', 'de', 'df', 'dg', 'dh'],\n",
       "       ['eb', 'ec', 'ed', 'ef', 'eg', 'eh'],\n",
       "       ['fb', 'fc', 'fd', 'fe', 'fg', 'fh'],\n",
       "       ['gb', 'gc', 'gd', 'ge', 'gf', 'gh'],\n",
       "       ['hb', 'hc', 'hd', 'he', 'hf', 'hg']], dtype='<U2')"
      ]
     },
     "execution_count": 492,
     "metadata": {},
     "output_type": "execute_result"
    }
   ],
   "source": [
    "# decoder ring for g values\n",
    "array = []\n",
    "for i in itertools.permutations([\"b\", \"c\", \"d\", \"e\", \"f\", \"g\", \"h\"], r=2):\n",
    "    array.append(i[0] + i[1])\n",
    "    \n",
    "np.array(array).reshape(7,6)"
   ]
  },
  {
   "cell_type": "code",
   "execution_count": 494,
   "id": "e0368136-6101-4b3d-a051-b16962f87d2f",
   "metadata": {},
   "outputs": [
    {
     "data": {
      "text/html": [
       "<div><i>Table length=7</i>\n",
       "<table id=\"table5726128160\" class=\"table-striped table-bordered table-condensed\">\n",
       "<thead><tr><th>g 1/2</th><th>g 1/2/3</th><th>g 1..4</th><th>g 1..5</th><th>g 1..6</th><th>g 1..7</th></tr></thead>\n",
       "<thead><tr><th>object</th><th>object</th><th>object</th><th>object</th><th>object</th><th>object</th></tr></thead>\n",
       "<tr><td>0.12600814761443932 1 / yr</td><td>0.010728162070674802 1 / yr</td><td>0.004041307868537723 1 / yr</td><td>0.0018211523468534309 1 / yr</td><td>0.0010938890366411272 1 / yr</td><td>0.0001997989710768417 1 / yr</td></tr>\n",
       "<tr><td>0.1260081476144395 1 / yr</td><td>0.03860413578278816 1 / yr</td><td>0.009539109865057073 1 / yr</td><td>0.0036023647194889947 1 / yr</td><td>0.002019147298513887 1 / yr</td><td>0.0003616735400459833 1 / yr</td></tr>\n",
       "<tr><td>0.010728162070674807 1 / yr</td><td>0.03860413578278822 1 / yr</td><td>0.01635663844217998 1 / yr</td><td>0.0066907911406335115 1 / yr</td><td>0.0034157477795344216 1 / yr</td><td>0.0004058253225771235 1 / yr</td></tr>\n",
       "<tr><td>0.0040413078685377175 1 / yr</td><td>0.009539109865057073 1 / yr</td><td>0.027537658048398774 1 / yr</td><td>0.013237860507461003 1 / yr</td><td>0.003968489557075433 1 / yr</td><td>0.0010640196863900702 1 / yr</td></tr>\n",
       "<tr><td>0.0018211523468534324 1 / yr</td><td>0.003602364719488995 1 / yr</td><td>0.006690791140633509 1 / yr</td><td>0.029230408304627975 1 / yr</td><td>0.058350726765478804 1 / yr</td><td>0.0035751703370296094 1 / yr</td></tr>\n",
       "<tr><td>0.0010938890366411257 1 / yr</td><td>0.0020191472985138918 1 / yr</td><td>0.003415747779534423 1 / yr</td><td>0.009373808800657609 1 / yr</td><td>0.05835072676547862 1 / yr</td><td>0.0069054509192465145 1 / yr</td></tr>\n",
       "<tr><td>0.0001997989710768414 1 / yr</td><td>0.00036167354004598256 1 / yr</td><td>0.0004058253225771241 1 / yr</td><td>0.0010640196863900702 1 / yr</td><td>0.0036870167456447946 1 / yr</td><td>0.013073478928499145 1 / yr</td></tr>\n",
       "</table></div>"
      ],
      "text/plain": [
       "<Table length=7>\n",
       "           g 1/2             ...            g 1..7           \n",
       "           object            ...            object           \n",
       "---------------------------- ... ----------------------------\n",
       "  0.12600814761443932 1 / yr ... 0.0001997989710768417 1 / yr\n",
       "   0.1260081476144395 1 / yr ... 0.0003616735400459833 1 / yr\n",
       " 0.010728162070674807 1 / yr ... 0.0004058253225771235 1 / yr\n",
       "0.0040413078685377175 1 / yr ... 0.0010640196863900702 1 / yr\n",
       "0.0018211523468534324 1 / yr ... 0.0035751703370296094 1 / yr\n",
       "0.0010938890366411257 1 / yr ... 0.0069054509192465145 1 / yr\n",
       "0.0001997989710768414 1 / yr ...  0.013073478928499145 1 / yr"
      ]
     },
     "execution_count": 494,
     "metadata": {},
     "output_type": "execute_result"
    }
   ],
   "source": [
    "g"
   ]
  },
  {
   "cell_type": "code",
   "execution_count": 241,
   "id": "f2789ed7-a41b-4541-89d4-be23d299868f",
   "metadata": {
    "scrolled": true,
    "tags": []
   },
   "outputs": [],
   "source": [
    "# Stars T<4700K, <1 transiting planet; most recent publication for each planet\n",
    "# some are missing Teq, a - calculated separately using Mstar, P\n",
    "fits_image_filename = \"other_mdwarf_multis_planets_edits.fits\"  # from Sarah\n",
    "hdul = fits.open(fits_image_filename)\n",
    "tbl = Table(hdul[1].data)\n",
    "#names = [name for name in tbl.colnames if len(tbl[name].shape) <= 1]  # some of the columns are multi-dimensional??\n",
    "data = tbl #tbl[names].to_pandas()\n",
    "\n",
    "# corrections\n",
    "data['MP'][95] = 309.6   # TOI-1130 c \n",
    "# close hdu\n",
    "hdul.close()"
   ]
  },
  {
   "cell_type": "code",
   "execution_count": 482,
   "id": "6981c7e8-7622-4dd9-ad6e-7d7f4d99a336",
   "metadata": {
    "scrolled": true,
    "tags": []
   },
   "outputs": [
    {
     "name": "stdout",
     "output_type": "stream",
     "text": [
      "****** STAR_NUMBER 1 *******\n",
      "     NAME               n          ...      weqn 1/2           weq 1/2      \n",
      "                      1 / d        ...                                      \n",
      "-------------- ------------------- ... ------------------ ------------------\n",
      "AUMicb          0.7424300256622459 ... 0.5022484659843527 0.3728843414895866\n",
      "AUMicc         0.33316607333496967 ...                nan                nan\n",
      "****** STAR_NUMBER 2 *******\n",
      "     NAME              n          ...        weqn 1/2             weq 1/2       \n",
      "                     1 / d        ...                                           \n",
      "-------------- ------------------ ... --------------------- --------------------\n",
      "EPIC206042996c 17.704898804058754 ... 0.0028905961049393966 0.051177711521358416\n",
      "EPIC206042996b 1.1858198971765346 ...   0.13704619319025726  0.16251210271730637\n",
      "****** STAR_NUMBER 3 *******\n",
      "     NAME               n          ...       weqn 1/2            weq 1/2      \n",
      "                      1 / d        ...                                        \n",
      "-------------- ------------------- ... ------------------- -------------------\n",
      "EPIC212737443b 0.46189703059469134 ... 0.33527987848515983 0.15486478029044426\n",
      "EPIC212737443c 0.09585332276399064 ...                 nan                 nan\n",
      "****** STAR_NUMBER 4 *******\n",
      "     NAME              n          ...       weqn 1/2           weq 1/2      \n",
      "                     1 / d        ...                                       \n",
      "-------------- ------------------ ... ------------------- ------------------\n",
      "HD21749c       0.8065778905817621 ... 0.24442125258683223 0.1971447783248392\n",
      "GJ143b         0.1764318712312657 ...                 nan                nan\n",
      "****** STAR_NUMBER 5 *******\n",
      "     NAME              n          ...      weq 1/2            weq 1/2/3     \n",
      "                     1 / d        ...                                       \n",
      "-------------- ------------------ ... ------------------ -------------------\n",
      "GJ9827b          5.19708798550217 ... 0.2482149476187484 0.49726482981824854\n",
      "GJ9827c        1.7223192108637904 ... 0.3023621117880699  0.1591391366934783\n",
      "GJ9827d         1.013176796761888 ...  0.910438602289104  0.8056096172795012\n",
      "****** STAR_NUMBER 6 *******\n",
      "     NAME              n          ...       weqn 1/2            weq 1/2      \n",
      "                     1 / d        ...                                        \n",
      "-------------- ------------------ ... ------------------- -------------------\n",
      "HD219134b       2.031469652742932 ... 0.19512648629475107 0.39639353535414645\n",
      "HD219134c      0.9288359820091693 ...   0.622226887843716  0.5779467224028272\n",
      "****** STAR_NUMBER 7 *******\n",
      "     NAME               n          ...      weqn 1/2           weq 1/2      \n",
      "                      1 / d        ...                                      \n",
      "-------------- ------------------- ... ------------------ ------------------\n",
      "HD73583b        0.9820481496025794 ... 0.2924822153136055 0.2872316183403895\n",
      "HD73583c       0.33280041500463386 ...                nan                nan\n",
      "****** STAR_NUMBER 8 *******\n",
      "     NAME              n          ...       weqn 1/2             weq 1/2      \n",
      "                     1 / d        ...                                         \n",
      "-------------- ------------------ ... -------------------- -------------------\n",
      "K2-117b        4.8645546831509945 ... 0.042153804754205694 0.20505948832970397\n",
      "K2-117c        1.1541450563397555 ...    0.354176395012728  0.4087709353761765\n",
      "****** STAR_NUMBER 9 *******\n",
      "     NAME              n          ...      weq 1/2/3            weq 1..4     \n",
      "                     1 / d        ...                                        \n",
      "-------------- ------------------ ... ------------------- -------------------\n",
      "K2-133b         2.045753893974137 ...  1.0792404339033383 0.40653075474174355\n",
      "K2-133c         1.290754278525914 ... 0.30260059030709974   0.543681060696727\n",
      "K2-133d        0.5699272084984577 ...                 nan 0.09669077049911108\n",
      "K2-133e        0.2363512515819451 ...  0.4024990013176788                 nan\n",
      "****** STAR_NUMBER 10 *******\n",
      "     NAME               n          ...      weq 1/2          weq 1/2/3    \n",
      "                      1 / d        ...                                    \n",
      "-------------- ------------------- ... ----------------- -----------------\n",
      "K2-136b         0.7878313806164823 ... 0.550395915753033               nan\n",
      "K2-136c         0.3630401323557782 ...               nan 0.209964937110499\n",
      "K2-136d        0.24567622045846557 ...               nan               nan\n",
      "****** STAR_NUMBER 11 *******\n",
      "     NAME              n          ...       weqn 1/2            weq 1/2       \n",
      "                     1 / d        ...                                         \n",
      "-------------- ------------------ ... ------------------- --------------------\n",
      "K2-141b        22.439947525641376 ... 0.00261845097783562 0.058757902541095655\n",
      "K2-141c        0.8108905345782521 ... 0.14410651798209054  0.11685461140270789\n",
      "****** STAR_NUMBER 12 *******\n",
      "     NAME              n          ...      weqn 1/2           weq 1/2      \n",
      "                     1 / d        ...                                      \n",
      "-------------- ------------------ ... ------------------ ------------------\n",
      "K2-146b         2.353429210869573 ... 0.5873358304022064   1.38225329985889\n",
      "K2-146c        1.5841427292891577 ... 0.8875117400163354 1.4059452701056467\n",
      "****** STAR_NUMBER 13 *******\n",
      "     NAME              n          ...      weq 1/2            weq 1/2/3     \n",
      "                     1 / d        ...                                       \n",
      "-------------- ------------------ ... ------------------ -------------------\n",
      "K2-148b        1.4332246734519296 ... 0.9305586080200379  0.8559828322921827\n",
      "K2-148c        0.9076337369167056 ... 0.5408857896848925 0.46747339499112234\n",
      "K2-148d        0.6439075320693578 ... 0.9063511064993219                 nan\n",
      "****** STAR_NUMBER 14 *******\n",
      "     NAME              n         ...       weqn 1/2            weq 1/2      \n",
      "                     1 / d       ...                                        \n",
      "-------------- ----------------- ... ------------------- -------------------\n",
      "K2-154b        1.709124302192877 ... 0.28524662994552313 0.48752194735851206\n",
      "K2-154c         0.78985491978232 ...  0.7989618242195553   0.631063927578073\n",
      "****** STAR_NUMBER 15 *******\n",
      "     NAME               n          ...      weq 1/2            weq 1/2/3     \n",
      "                      1 / d        ...                                       \n",
      "-------------- ------------------- ... ------------------ -------------------\n",
      "K2-155b         0.9907261600724672 ... 0.5613199162606219                 nan\n",
      "K2-155c        0.45365958896603514 ...                nan 0.11369472233970183\n",
      "K2-155d        0.15430977226729176 ... 0.2671707432015702                 nan\n",
      "****** STAR_NUMBER 16 *******\n",
      "     NAME              n          ...       weqn 1/2           weq 1/2     \n",
      "                     1 / d        ...                                      \n",
      "-------------- ------------------ ... ------------------- -----------------\n",
      "K2-16b         0.8246020755709549 ... 0.44606815492632396 0.367828726398353\n",
      "K2-16c         0.3294016687783604 ...                 nan               nan\n",
      "****** STAR_NUMBER 17 *******\n",
      "     NAME              n          ...      weqn 1/2           weq 1/2      \n",
      "                     1 / d        ...                                      \n",
      "-------------- ------------------ ... ------------------ ------------------\n",
      "K2-199b        1.9480333201472408 ... 0.2780234358142224 0.5415989167479229\n",
      "K2-199c        0.8520162835375018 ... 0.6530871264913986 0.5564408663393877\n",
      "****** STAR_NUMBER 18 *******\n",
      "     NAME               n          ...      weqn 1/2           weq 1/2      \n",
      "                      1 / d        ...                                      \n",
      "-------------- ------------------- ... ------------------ ------------------\n",
      "K2-21b          0.6737972871724047 ... 0.9981798920992272 0.6725709034065029\n",
      "K2-21c         0.40552057002800257 ...                nan                nan\n",
      "****** STAR_NUMBER 19 *******\n",
      "     NAME              n          ...      weq 1/2           weq 1/2/3     \n",
      "                     1 / d        ...                                      \n",
      "-------------- ------------------ ... ------------------ ------------------\n",
      "K2-239b        1.1990811654922875 ... 0.8916380752865316                nan\n",
      "K2-239c        0.8081267276115223 ...  0.612100870793044 0.5575767585679738\n",
      "K2-239d         0.621175018010834 ...                nan                nan\n",
      "****** STAR_NUMBER 20 *******\n",
      "     NAME              n          ...      weqn 1/2            weq 1/2      \n",
      "                     1 / d        ...                                       \n",
      "-------------- ------------------ ... ------------------ -------------------\n",
      "K2-240b        1.0412968689392752 ... 0.2285279182895919 0.23796540578016256\n",
      "K2-240c        0.3061533551225253 ...                nan                 nan\n",
      "****** STAR_NUMBER 21 *******\n",
      "     NAME              n         ...       weqn 1/2            weq 1/2      \n",
      "                     1 / d       ...                                        \n",
      "-------------- ----------------- ... ------------------- -------------------\n",
      "K2-247b        2.792266191679704 ... 0.10787715284495099 0.30122172674362063\n",
      "K2-247c        0.967501248364641 ...  0.4993378905621509  0.4831100324746475\n",
      "****** STAR_NUMBER 22 *******\n",
      "     NAME              n          ...       weqn 1/2           weq 1/2      \n",
      "                     1 / d        ...                                       \n",
      "-------------- ------------------ ... ------------------- ------------------\n",
      "K2-254b        1.5338347440501479 ... 0.20980600328290888  0.321807737345625\n",
      "K2-254c        0.5184835037640797 ...  0.7923292441899121 0.4108096426623307\n",
      "****** STAR_NUMBER 23 *******"
     ]
    },
    {
     "name": "stderr",
     "output_type": "stream",
     "text": [
      "/Users/natalia.guerrero/miniconda3/envs/starry/lib/python3.8/site-packages/astropy/units/quantity.py:613: RuntimeWarning: invalid value encountered in power\n",
      "  result = super().__array_ufunc__(function, method, *arrays, **kwargs)\n",
      "/Users/natalia.guerrero/miniconda3/envs/starry/lib/python3.8/site-packages/astropy/units/quantity.py:613: RuntimeWarning: invalid value encountered in arccos\n",
      "  result = super().__array_ufunc__(function, method, *arrays, **kwargs)\n"
     ]
    },
    {
     "name": "stdout",
     "output_type": "stream",
     "text": [
      "\n",
      "     NAME              n          ...       weqn 1/2           weq 1/2      \n",
      "                     1 / d        ...                                       \n",
      "-------------- ------------------ ... ------------------- ------------------\n",
      "K2-264b        1.0758875266103651 ... 0.29220875661632323 0.3143837564098262\n",
      "K2-264c         0.319587425827924 ...                 nan                nan\n",
      "****** STAR_NUMBER 24 *******\n",
      "     NAME              n          ...      weq 1/2/3             weq 1..4      \n",
      "                     1 / d        ...                                          \n",
      "-------------- ------------------ ... -------------------- --------------------\n",
      "K2-266b         9.541315589378042 ...  0.17530375262735756  0.13137064309260882\n",
      "K2-266c        0.8040933333989744 ... 0.026034996679280685   0.6397403487853314\n",
      "K2-266d        0.4275148198393949 ...   0.3225113490594457 0.018489208654928865\n",
      "K2-266e        0.3225123348311049 ...                  nan                  nan\n",
      "****** STAR_NUMBER 25 *******\n",
      "     NAME               n          ...      weq 1/2            weq 1/2/3     \n",
      "                      1 / d        ...                                       \n",
      "-------------- ------------------- ... ------------------ -------------------\n",
      "K2-3b           0.6250826167792334 ... 0.3699931835344879                 nan\n",
      "K2-3c          0.25493130476183623 ...                nan 0.16159761249038987\n",
      "K2-3d          0.14101733515350048 ...                nan                 nan\n",
      "****** STAR_NUMBER 26 *******\n",
      "     NAME              n          ...       weqn 1/2            weq 1/2      \n",
      "                     1 / d        ...                                        \n",
      "-------------- ------------------ ... ------------------- -------------------\n",
      "K2-316b         5.545618099893721 ... 0.02139193934785843 0.11863152603931239\n",
      "K2-316c        1.1945219215170317 ... 0.29095456504851175 0.34755160611590047\n",
      "****** STAR_NUMBER 27 *******\n",
      "     NAME               n          ...      weq 1/2            weq 1/2/3     \n",
      "                      1 / d        ...                                       \n",
      "-------------- ------------------- ... ------------------ -------------------\n",
      "K2-32b           0.698759373050564 ... 0.3716385062277774                 nan\n",
      "K2-32c           0.304108671438571 ...                nan 0.20400676906586135\n",
      "K2-32d         0.19810857162035062 ...                nan                 nan\n",
      "****** STAR_NUMBER 28 *******\n",
      "     NAME              n          ...       weqn 1/2            weq 1/2      \n",
      "                     1 / d        ...                                        \n",
      "-------------- ------------------ ... ------------------- -------------------\n",
      "K2-343b        2.2543211536773757 ... 0.17904346047385863 0.40362146037381863\n",
      "K2-343c        0.8184457761705508 ...   0.670970736830889  0.5491531654932834\n",
      "****** STAR_NUMBER 29 *******\n",
      "     NAME              n          ...      weqn 1/2           weq 1/2      \n",
      "                     1 / d        ...                                      \n",
      "-------------- ------------------ ... ------------------ ------------------\n",
      "K2-35b         2.6180331484887214 ... 0.1790152061669478 0.4686677438286119\n",
      "K2-35c          1.120061773529908 ... 0.4389892398173929 0.4916950665104152\n",
      "****** STAR_NUMBER 30 *******\n",
      "     NAME              n          ...      weq 1/2           weq 1/2/3     \n",
      "                     1 / d        ...                                      \n",
      "-------------- ------------------ ... ------------------ ------------------\n",
      "K2-368b        1.2502363514112325 ... 0.5344976259147342 0.6122922724746105\n",
      "K2-368c        0.6504207379836772 ... 0.2827462811197865 0.2145544244401393\n",
      "K2-368d        0.3110320711575436 ... 0.5060064501865099                nan\n",
      "****** STAR_NUMBER 31 *******\n",
      "     NAME               n          ...      weq 1/2            weq 1/2/3     \n",
      "                      1 / d        ...                                       \n",
      "-------------- ------------------- ... ------------------ -------------------\n",
      "K2-381b          0.791439478152013 ... 0.3440331708090407                 nan\n",
      "K2-381c        0.39185033387554974 ...                nan 0.22467981816608362\n",
      "K2-381d        0.23442077064141556 ...                nan                 nan\n",
      "****** STAR_NUMBER 32 *******\n",
      "     NAME              n          ...       weq 1..4            weq 1..5     \n",
      "                     1 / d        ...                                        \n",
      "-------------- ------------------ ... ------------------- -------------------\n",
      "K2-384b        2.8156438650213897 ...  0.5275797257632954  0.3851793748584289\n",
      "K2-384c        1.4978631244697762 ...  1.0473787840285738                 nan\n",
      "K2-384d        0.9406554642460541 ... 0.19622010322343786  0.5123757660030709\n",
      "K2-384e        0.6467480696873484 ...                 nan 0.18629839610393015\n",
      "K2-384f         0.461066954162475 ...                 nan                 nan\n",
      "****** STAR_NUMBER 33 *******\n",
      "     NAME              n          ...      weqn 1/2           weq 1/2      \n",
      "                     1 / d        ...                                      \n",
      "-------------- ------------------ ... ------------------ ------------------\n",
      "K2-43c         2.8574428242597545 ... 0.4344676769783813 1.2414665459546805\n",
      "K2-43b         1.8101168538658485 ... 0.5908658069345039 1.0695361555051899\n",
      "****** STAR_NUMBER 34 *******\n",
      "     NAME              n          ...      weqn 1/2           weq 1/2      \n",
      "                     1 / d        ...                                      \n",
      "-------------- ------------------ ... ------------------ ------------------\n",
      "K2-5b          1.0956153117374947 ... 0.4759199930388353 0.5214252315353498\n",
      "K2-5c          0.5747306453459063 ...                nan                nan\n",
      "****** STAR_NUMBER 35 *******\n",
      "     NAME               n          ...      weqn 1/2           weq 1/2      \n",
      "                      1 / d        ...                                      \n",
      "-------------- ------------------- ... ------------------ ------------------\n",
      "K2-62b          0.9419913451523618 ... 0.4087069279686578 0.3849983888502854\n",
      "K2-62c         0.38791796849218496 ...                nan                nan\n",
      "****** STAR_NUMBER 36 *******\n",
      "     NAME               n          ...     weq 1/2/3            weq 1..4     \n",
      "                      1 / d        ...                                       \n",
      "-------------- ------------------- ... ------------------ -------------------\n",
      "K2-72b          1.1265817593413314 ...                nan 0.40887077505964164\n",
      "K2-72d          0.8096702559116024 ... 0.3170391371790287  0.5039168017423827\n",
      "K2-72c         0.41366589258932374 ...                nan 0.19007198046908846\n",
      "K2-72e         0.26007780278362325 ...                nan                 nan\n",
      "****** STAR_NUMBER 37 *******\n",
      "     NAME              n          ...       weqn 1/2            weq 1/2      \n",
      "                     1 / d        ...                                        \n",
      "-------------- ------------------ ... ------------------- -------------------\n",
      "K2-83b          2.287100886522878 ... 0.11096232332488097  0.2537820280469735\n",
      "K2-83c         0.6282541026314796 ...  0.6308713056582403 0.39634748601226766\n",
      "****** STAR_NUMBER 38 *******\n",
      "     NAME              n          ...       weqn 1/2            weq 1/2      \n",
      "                     1 / d        ...                                        \n",
      "-------------- ------------------ ... ------------------- -------------------\n",
      "K2-90c         2.1660882927051506 ... 0.10943481967574871 0.23704548171393855\n",
      "K2-90b         0.4575141373145321 ...  0.6484991889431319  0.2966975469784907\n",
      "****** STAR_NUMBER 39 *******\n",
      "     NAME              n          ...      weq 1/2            weq 1/2/3     \n",
      "                     1 / d        ...                                       \n",
      "-------------- ------------------ ... ------------------ -------------------\n",
      "L98-59b        2.7886677827427726 ... 0.8660996195073997    1.08984816197619\n",
      "L98-59c        1.7024475768175547 ... 0.4766999857640139 0.28198846779120174\n",
      "L98-59d        0.8432985687740281 ... 0.5560968142416339   0.807533864933554\n",
      "****** STAR_NUMBER 40 *******\n",
      "     NAME               n          ...       weqn 1/2           weq 1/2      \n",
      "                      1 / d        ...                                       \n",
      "-------------- ------------------- ... ------------------- ------------------\n",
      "LHS1140c        1.6631334986393536 ... 0.10965965226421656 0.1823786411297614\n",
      "LHS1140b       0.25400010297068215 ...                 nan                nan\n",
      "****** STAR_NUMBER 41 *******\n",
      "     NAME              n          ...       weqn 1/2             weq 1/2      \n",
      "                     1 / d        ...                                         \n",
      "-------------- ------------------ ... -------------------- -------------------\n",
      "LHS1678b        7.304057331473509 ... 0.014763821132519346 0.10783579598354145\n",
      "LHS1678c       1.7008027095046938 ...  0.14411041520311818  0.2451033846453098\n",
      "****** STAR_NUMBER 42 *******\n",
      "     NAME              n          ...       weqn 1/2             weq 1/2      \n",
      "                     1 / d        ...                                         \n",
      "-------------- ------------------ ... -------------------- -------------------\n",
      "LP791-18b       6.627797645771474 ... 0.047250594371353746 0.31316737813576123\n",
      "LP791-18c      1.2591647086721056 ...   0.3850070382907049  0.4847872752060256\n",
      "****** STAR_NUMBER 43 *******\n",
      "     NAME              n          ...       weqn 1/2           weq 1/2      \n",
      "                     1 / d        ...                                       \n",
      "-------------- ------------------ ... ------------------- ------------------\n",
      "LTT1445Ac      2.0113250320247045 ... 0.47846627745302045 0.9623512008209375\n",
      "LTT1445Ab      1.1725060692949472 ...  0.9192993362650852 1.0778840512696288\n",
      "****** STAR_NUMBER 44 *******\n",
      "     NAME              n          ...       weqn 1/2             weq 1/2      \n",
      "                     1 / d        ...                                         \n",
      "-------------- ------------------ ... -------------------- -------------------\n",
      "LTT3780b        8.177216792251182 ... 0.008507295563090449 0.06956600013514719\n",
      "LTT3780c       0.5128238758775584 ...   0.3621035032986629 0.18569532203046257\n",
      "****** STAR_NUMBER 45 *******\n",
      "     NAME              n                    alpha            ... weqn 1/2 weq 1/2\n",
      "                     1 / d                                   ...                 \n",
      "-------------- ------------------ -------------------------- ... -------- -------\n",
      "TOI-1130b      1.5451092714346137  0.3452825674718026 1 / yr ...      nan     nan\n",
      "TOI-1130c      0.7524429492713669 0.14536169284186468 1 / yr ...      nan     nan\n",
      "****** STAR_NUMBER 46 *******\n",
      "     NAME              n          ...      weqn 1/2            weq 1/2      \n",
      "                     1 / d        ...                                       \n",
      "-------------- ------------------ ... ------------------ -------------------\n",
      "TOI-1260b      2.0090249361081725 ... 0.2223597241238239 0.44672623055089616\n",
      "TOI-1260c      0.8385127023894287 ... 0.6834175319894888  0.5730542816088201\n",
      "****** STAR_NUMBER 47 *******\n",
      "     NAME               n                     alpha             ... weqn 1/2 weq 1/2\n",
      "                      1 / d                                     ...                 \n",
      "-------------- ------------------- ---------------------------- ... -------- -------\n",
      "TOI-1266b       0.5767118725051463   0.00943909933568175 1 / yr ...      nan     nan\n",
      "TOI-1266c      0.33418514295817653 0.0010601344918083765 1 / yr ...      nan     nan\n",
      "****** STAR_NUMBER 48 *******\n",
      "     NAME              n          ...       weq 1/2           weq 1/2/3     \n",
      "                     1 / d        ...                                       \n",
      "-------------- ------------------ ... ------------------- ------------------\n",
      "TOI-1749b       2.630719985923399 ...  0.7859653484843336 0.7874957879368291\n",
      "TOI-1749c      1.3984698762891643 ... 0.37660549257557197 0.2984077416566825\n",
      "TOI-1749d      0.6942976349690693 ...  0.5719636486145118 0.6625394396637311\n",
      "****** STAR_NUMBER 49 *******\n",
      "     NAME              n          ...       weq 1..5            weq 1..6     \n",
      "                     1 / d        ...                                        \n",
      "-------------- ------------------ ... ------------------- -------------------\n",
      "TOI-178b       3.2817941828764585 ... 0.26418578114042235  0.2001855515949554\n",
      "TOI-178c       1.9401828983555671 ...  0.6468922561525151  0.4142503364372728\n",
      "TOI-178d       0.9581385710202642 ... 0.30212440788630457   0.741158043166034\n",
      "TOI-178e       0.6307227828940726 ... 0.10704150538881928  0.1776162006595795\n",
      "TOI-178f       0.4125013373026035 ...                 nan 0.09113894233443057\n",
      "TOI-178g       0.3033962822462921 ...                 nan                 nan\n",
      "****** STAR_NUMBER 50 *******\n",
      "     NAME              n          ...       weq 1/2           weq 1/2/3     \n",
      "                     1 / d        ...                                       \n",
      "-------------- ------------------ ... ------------------- ------------------\n",
      "TOI-270b       1.8699100342310482 ...  1.2321504035713644 0.9745424055811226\n",
      "TOI-270c       1.1099910196689424 ... 0.44402045626883685 0.3795582666483983\n",
      "TOI-270d       0.5521459642799942 ...  0.4018651322423655                nan\n",
      "****** STAR_NUMBER 51 *******\n",
      "     NAME               n          ...      weq 1/2            weq 1/2/3     \n",
      "                      1 / d        ...                                       \n",
      "-------------- ------------------- ... ------------------ -------------------\n",
      "TOI-700b        0.6297663635878471 ...                nan                 nan\n",
      "TOI-700c       0.39144894057587754 ...                nan 0.15682045056640911\n",
      "TOI-700d       0.16788289710841622 ... 0.3452652672914195                 nan\n",
      "****** STAR_NUMBER 52 *******\n",
      "     NAME              n          ...      weqn 1/2           weq 1/2      \n",
      "                     1 / d        ...                                      \n",
      "-------------- ------------------ ... ------------------ ------------------\n",
      "TOI-776b       0.7619112953297883 ... 0.7992316694844636 0.6089436365654969\n",
      "TOI-776c       0.4010893699565017 ...                nan                nan\n",
      "****** STAR_NUMBER 53 *******\n",
      "     NAME              n          ...      weq 1..6            weq 1..7      \n",
      "                     1 / d        ...                                        \n",
      "-------------- ------------------ ... ------------------ --------------------\n",
      "TRAPPIST-1b      4.15877493978763 ... 0.3837610697390939   0.3432131111898312\n",
      "TRAPPIST-1c    2.5942810680788093 ... 0.6767032251124458   0.5141162093087822\n",
      "TRAPPIST-1d    1.5517030091925348 ... 0.7187383571914189   0.9858153724281858\n",
      "TRAPPIST-1e    1.0298593540416299 ... 0.2929451676029077  0.46780595816739606\n",
      "TRAPPIST-1f    0.6823956569484995 ... 0.1283603752040763   0.2194736858419718\n",
      "TRAPPIST-1g    0.5086592005485866 ...                nan 0.054863467538612945\n",
      "TRAPPIST-1h    0.3346950490766613 ...                nan                  nan\n"
     ]
    }
   ],
   "source": [
    "# group systems by star number\n",
    "dg = data.group_by(['STAR_NUMBER'])\n",
    "\n",
    "# labels for gll pairs\n",
    "names = ['gll 1/2', 'gll 1/2/3', 'gll 1..4', 'gll 1..5', 'gll 1..6', 'gll 1..7', 'gll 1..8', 'gll 1..9']\n",
    "gnames = ['g 1/2', 'g 1/2/3', 'g 1..4', 'g 1..5', 'g 1..6', 'g 1..7', 'g 1..8', 'g 1..9']\n",
    "onames = ['o 1/2', 'o 1/2/3', 'o 1..4', 'o 1..5', 'o 1..6', 'o 1..7', 'o 1..8', 'o 1..9']\n",
    "weqnnames = ['weqn 1/2', 'weqn 1/2/3', 'weqn 1..4', 'weqn 1..5', 'weqn 1..6', 'weqn 1..7', 'weqn 1..8', 'weqn 1..9']\n",
    "weqnames = ['weq 1/2', 'weq 1/2/3', 'weq 1..4', 'weq 1..5', 'weq 1..6', 'weq 1..7', 'weq 1..8', 'weq 1..9']\n",
    "\n",
    "allcalc = Table()\n",
    "all_alpha = np.array([])\n",
    "\n",
    "verbose = True\n",
    "# calculate alpha, g_LL for each system\n",
    "for key, sys in zip(dg.groups.keys, dg.groups):\n",
    "    # order planets in system by period\n",
    "    sys.sort(['PERIOD']) \n",
    "    if verbose: print(f'****** STAR_NUMBER {key[\"STAR_NUMBER\"]} *******')\n",
    "    # calculate alpha for each planet in table\n",
    "    w1 = 2*np.pi/(sys['PERIOD'] * u.day) # this is the same as n, the mean motion\n",
    "    mstar = sys['RSTAR'] * u.M_sun\n",
    "    #### !!!! WARNING !!!! USING MSTAR = RSTAR AND NOT THE ACTUAL VALUES !!!! ### \n",
    "    mp = sys['MP'] * u.M_earth   # calculated from Chen + Kipping\n",
    "    rp = sys['RP'] * u.R_earth\n",
    "    a = sys['A'] * u.AU\n",
    "    k2 = 0.3 # np.random.rand()*(0.6 - 0.1) + 0.1   # Love number, randomly selected 0.1-0.6\n",
    "\n",
    "    # calculate alpha for each planet\n",
    "    alpha_set = Table(np.array([alpha.to(u.yr**-1) for alpha in get_alpha(w1, mstar, mp, rp, a, k2, get_C(k2))],\n",
    "                             dtype='O').reshape((len(sys),1)), names=['alpha'])\n",
    "    #all_alpha = np.append(all_alpha, alpha_set)\n",
    "    \n",
    "    # calculate g_ll for each pair of planets\n",
    "    gll = Table(get_gll(sys)[0].reshape(len(sys), len(sys)-1), names=names[:len(sys)-1])\n",
    "    g = Table(get_gll(sys)[1].reshape(len(sys), len(sys)-1), names=gnames[:len(sys)-1])\n",
    "    \n",
    "    \n",
    "    # make a spin-orbit parameters table for each planet\n",
    "    calc_tab = hstack([sys['NAME'], Column(w1, name=\"n\"), alpha_set, gll, g])\n",
    "    \n",
    "    # calculate epsilon (obliquity), weq/n, weq!\n",
    "    oblarr = []\n",
    "    weqnarr = []\n",
    "    weqarr = []\n",
    "    counter = 0\n",
    "    # iterate through g possibilities\n",
    "    for gg in [s for s in calc_tab.colnames if 'g ' in s]:\n",
    "        counter +=1\n",
    "        # for each planet, calculate all a/g pairs\n",
    "        for name, n, alpha, gi in calc_tab.iterrows('NAME','n','alpha', gg):\n",
    "            #print(f\"alpha_sys/g = {alpha/gi:.4}\")\n",
    "            obl = np.arccos(((2*(alpha/np.abs(gi))) - 1)**(-0.5)).to(u.deg)\n",
    "            #print(f\"{name} {alpha:.3} | {gg} {gi:.3} | {obl:.3}\")\n",
    "            weqn = (2 * np.cos(obl)) / (1 + np.cos(obl)**2)\n",
    "            weq = weqn * n  # frequency of day\n",
    "            oblarr.append(obl) \n",
    "            weqnarr.append(weqn)\n",
    "            weqarr.append(weq)\n",
    "    obl_tab = Table(np.array(oblarr, dtype=u.Quantity).reshape(len(calc_tab),counter), names=onames[:len(sys)-1])\n",
    "    weqn_tab = Table(np.array(weqnarr, dtype=u.Quantity).reshape(len(calc_tab),counter), names=weqnnames[:len(sys)-1])\n",
    "    weq_tab = Table(np.array(weqarr, dtype=u.Quantity).reshape(len(calc_tab),counter), names=weqnames[:len(sys)-1])\n",
    "\n",
    "    calc_tab2 = hstack([calc_tab, obl_tab, weqn_tab, weq_tab])\n",
    "    if verbose: print(f\"{calc_tab2}\")\n",
    "    \n",
    "    allcalc = vstack([allcalc, calc_tab2])\n",
    "    "
   ]
  },
  {
   "cell_type": "code",
   "execution_count": 451,
   "id": "fef9db1d-6ed9-48f4-9893-d17e1471cfcc",
   "metadata": {},
   "outputs": [],
   "source": [
    "# save to CSV\n",
    "allcalc.to_pandas().to_csv(\"planets_obliquity_weqn.csv\")"
   ]
  },
  {
   "cell_type": "code",
   "execution_count": 469,
   "id": "4f0e6d83-44c2-43d9-8515-c4765fd46835",
   "metadata": {},
   "outputs": [
    {
     "data": {
      "text/html": [
       "<div>\n",
       "<style scoped>\n",
       "    .dataframe tbody tr th:only-of-type {\n",
       "        vertical-align: middle;\n",
       "    }\n",
       "\n",
       "    .dataframe tbody tr th {\n",
       "        vertical-align: top;\n",
       "    }\n",
       "\n",
       "    .dataframe thead th {\n",
       "        text-align: right;\n",
       "    }\n",
       "</style>\n",
       "<table border=\"1\" class=\"dataframe\">\n",
       "  <thead>\n",
       "    <tr style=\"text-align: right;\">\n",
       "      <th></th>\n",
       "      <th>weq 1/2</th>\n",
       "      <th>weq 1/2/3</th>\n",
       "      <th>weq 1..4</th>\n",
       "      <th>weq 1..5</th>\n",
       "      <th>weq 1..6</th>\n",
       "      <th>weq 1..7</th>\n",
       "    </tr>\n",
       "  </thead>\n",
       "  <tbody>\n",
       "    <tr>\n",
       "      <th>0</th>\n",
       "      <td>1.3587932146881703</td>\n",
       "      <td>1.6354139384627524</td>\n",
       "      <td>0.588093210781988</td>\n",
       "      <td>0.45792906335596384</td>\n",
       "      <td>0.3837610697390939</td>\n",
       "      <td>0.3432131111898312</td>\n",
       "    </tr>\n",
       "    <tr>\n",
       "      <th>1</th>\n",
       "      <td>0.16799976671899505</td>\n",
       "      <td>0.40156035373014226</td>\n",
       "      <td>0.9439147685833622</td>\n",
       "      <td>1.0579320473531757</td>\n",
       "      <td>0.6767032251124458</td>\n",
       "      <td>0.5141162093087822</td>\n",
       "    </tr>\n",
       "    <tr>\n",
       "      <th>2</th>\n",
       "      <td>0.43556133691387017</td>\n",
       "      <td>0.21929857960277174</td>\n",
       "      <td>0.24664133033937974</td>\n",
       "      <td>0.4754395299568962</td>\n",
       "      <td>0.7538614347443799</td>\n",
       "      <td>0.9858153724281858</td>\n",
       "    </tr>\n",
       "    <tr>\n",
       "      <th>3</th>\n",
       "      <td>0.6355874985628385</td>\n",
       "      <td>0.5001584690666168</td>\n",
       "      <td>0.23031498071015824</td>\n",
       "      <td>0.16560867399060306</td>\n",
       "      <td>0.2929451676029077</td>\n",
       "      <td>0.46780595816739606</td>\n",
       "    </tr>\n",
       "    <tr>\n",
       "      <th>4</th>\n",
       "      <td>0.6878927701188486</td>\n",
       "      <td>nan</td>\n",
       "      <td>nan</td>\n",
       "      <td>0.3212566830556983</td>\n",
       "      <td>0.1283603752040763</td>\n",
       "      <td>0.2194736858419718</td>\n",
       "    </tr>\n",
       "    <tr>\n",
       "      <th>5</th>\n",
       "      <td>0.3361915988965442</td>\n",
       "      <td>0.6159666989505762</td>\n",
       "      <td>nan</td>\n",
       "      <td>nan</td>\n",
       "      <td>nan</td>\n",
       "      <td>0.054863467538612945</td>\n",
       "    </tr>\n",
       "    <tr>\n",
       "      <th>6</th>\n",
       "      <td>0.09295583826345152</td>\n",
       "      <td>0.11649338847341088</td>\n",
       "      <td>0.2396844202901872</td>\n",
       "      <td>0.3650272383700537</td>\n",
       "      <td>nan</td>\n",
       "      <td>nan</td>\n",
       "    </tr>\n",
       "  </tbody>\n",
       "</table>\n",
       "</div>"
      ],
      "text/plain": [
       "               weq 1/2            weq 1/2/3             weq 1..4  \\\n",
       "0   1.3587932146881703   1.6354139384627524    0.588093210781988   \n",
       "1  0.16799976671899505  0.40156035373014226   0.9439147685833622   \n",
       "2  0.43556133691387017  0.21929857960277174  0.24664133033937974   \n",
       "3   0.6355874985628385   0.5001584690666168  0.23031498071015824   \n",
       "4   0.6878927701188486                  nan                  nan   \n",
       "5   0.3361915988965442   0.6159666989505762                  nan   \n",
       "6  0.09295583826345152  0.11649338847341088   0.2396844202901872   \n",
       "\n",
       "              weq 1..5            weq 1..6              weq 1..7  \n",
       "0  0.45792906335596384  0.3837610697390939    0.3432131111898312  \n",
       "1   1.0579320473531757  0.6767032251124458    0.5141162093087822  \n",
       "2   0.4754395299568962  0.7538614347443799    0.9858153724281858  \n",
       "3  0.16560867399060306  0.2929451676029077   0.46780595816739606  \n",
       "4   0.3212566830556983  0.1283603752040763    0.2194736858419718  \n",
       "5                  nan                 nan  0.054863467538612945  \n",
       "6   0.3650272383700537                 nan                   nan  "
      ]
     },
     "execution_count": 469,
     "metadata": {},
     "output_type": "execute_result"
    }
   ],
   "source": [
    "weqdf = weq_tab.to_pandas()\n",
    "weqdf"
   ]
  },
  {
   "cell_type": "code",
   "execution_count": 378,
   "id": "0f358649-a64e-4316-98d5-40d898b77a0d",
   "metadata": {},
   "outputs": [],
   "source": [
    "tabdf = calc_tab2.to_pandas()\n",
    "tabdf.to_csv(\"Trappist1_obliquity_weqn.csv\")"
   ]
  },
  {
   "cell_type": "code",
   "execution_count": 446,
   "id": "5f7ed3bf-0a1b-4091-8bef-24463228f8d7",
   "metadata": {},
   "outputs": [],
   "source": [
    "# doodling around \n",
    "\n",
    "# calculate epsilon \n",
    "oblarr = []\n",
    "weqnarr = []\n",
    "weqarr = []\n",
    "counter = 0\n",
    "for gg in [s for s in calc_tab.colnames if 'g ' in s]:\n",
    "    counter +=1\n",
    "    for name, n, alpha, gi in calc_tab.iterrows('NAME','n','alpha', gg):\n",
    "        #print(f\"alpha_sys/g = {alpha/gi:.4}\")\n",
    "        obl = np.arccos(((2*(alpha/np.abs(gi))) - 1)**(-0.5))\n",
    "        #print(f\"{n} {alpha:.3} | {gg} {gi:.3} | {obl:.3}\")\n",
    "        weqn = (2 * np.cos(obl)) / (1 + np.cos(obl)**2)\n",
    "        weq = weqn * n\n",
    "        oblarr.append(obl)\n",
    "        weqnarr.append(weqn)\n",
    "        weqarr.append(weq)\n",
    "        \n",
    "        "
   ]
  },
  {
   "cell_type": "code",
   "execution_count": 373,
   "id": "da313e3a-5f38-4b31-b59d-c41496590e02",
   "metadata": {},
   "outputs": [
    {
     "data": {
      "text/plain": [
       "<matplotlib.legend.Legend at 0x141135fa0>"
      ]
     },
     "execution_count": 373,
     "metadata": {},
     "output_type": "execute_result"
    },
    {
     "data": {
      "image/png": "[encoded data removed]",
      "text/plain": [
       "<Figure size 576x432 with 1 Axes>"
      ]
     },
     "metadata": {
      "needs_background": "light"
     },
     "output_type": "display_data"
    }
   ],
   "source": [
    "# get g for all pairs in system for all systems in list\n",
    "allg = np.array([])\n",
    "allgll = np.array([])\n",
    "# select g columns, not gll columns\n",
    "for colname in [s for s in allcalc.colnames if 'g ' in s]:\n",
    "    #print(colname)\n",
    "    gcol = allcalc[colname]\n",
    "    allg = np.append(allg, np.array(gcol[~gcol.mask]))\n",
    "    \n",
    "# do it for g_LL, just for laughts. it looks basically the same.    \n",
    "# for colname in [s for s in allcalc.colnames if 'gll' in s]:\n",
    "#     #print(colname)\n",
    "#     ggcol = allcalc[colname]\n",
    "#     allgll = np.append(allgll, np.array(ggcol[~ggcol.mask]))\n",
    "\n",
    "\n",
    "# plot histogram of g,a\n",
    "fig, ax = plt.subplots(figsize=(8,6))\n",
    "n, bins, patches = ax.hist(np.log10([a.value for a in allcalc['alpha']]), histtype='step', ls='--', color='rebeccapurple',label=r'$log_{10}(\\alpha)$,'+f'k={k2}')\n",
    "ng, binsg, patchesg = ax.hist(np.log10([np.abs(g.value) for g in allg]), \n",
    "                               histtype='step', ls='-',color='royalblue',lw=2, label=r'$log_{10}(|g|)$')\n",
    "# ng, binsg, patchesg = ax.hist(np.log10([np.abs(g.value) for g in allgll]), \n",
    "#                                histtype='step', ls='-',color='pink',lw=2, label=r'$log_{10}(|g_{LL}|)$')\n",
    "\n",
    "# add a reference line for P=300 yrs\n",
    "ax.axvline(np.log10(2*np.pi/3000), color='grey',lw=1, ls='--')\n",
    "ax.text(-4,50, r\"P$\\sim$3000 yr\")\n",
    "\n",
    "# additional formatting\n",
    "ax.set_xlabel(r\"$log_{10}($frequency [rad/yr])\")\n",
    "ax.set_ylabel(r\"Count\")\n",
    "plt.legend()"
   ]
  },
  {
   "cell_type": "markdown",
   "id": "fc5239e7-7a60-4ebe-8eb1-0fb2a6352247",
   "metadata": {},
   "source": [
    "### Calculate obliquity, $\\epsilon$, required for spin-orbit resonance\n",
    "\n",
    "$$ cos~\\epsilon = \\left( \\frac{1}{2\\alpha_{syn}/|g| ~-~1} \\right)^{1/2}  $$\n",
    "\n",
    "for $\\alpha_{syn} = \\alpha$ when $n = \\omega$, i.e. the rotation period of the planet is the same as its orbital period \n"
   ]
  },
  {
   "cell_type": "raw",
   "id": "ae7d3d4f-9faf-473f-8060-c7d9a0f0fd31",
   "metadata": {},
   "source": [
    "From Sarah:\n",
    "\n",
    "alpha_d (inner) I get 5.2e5\n",
    "alpha_e (outer) I get 1.4e5\n",
    "( for Kepler-80 )"
   ]
  },
  {
   "cell_type": "code",
   "execution_count": 473,
   "id": "f6b33bd0-6805-4d70-b225-05a9eae171ef",
   "metadata": {},
   "outputs": [
    {
     "name": "stdout",
     "output_type": "stream",
     "text": [
      "P2/P1 = 1.512, g = 0.3-1.0 * gll\n",
      "Drawing from 100 values of k2\n",
      "alpha_d/g: 3.768--38.59\n",
      "alpha_e/g: 1.122--11.49\n",
      "obliquity_d = 66.97--83.42 deg (P = 3.0721466 d)\n",
      "obliquity_e = 26.28--77.68 deg (P = 4.6453821 d)\n"
     ]
    }
   ],
   "source": [
    "# Assume Prot = Porb\n",
    "\n",
    "# this will only work for single planet experiments\n",
    "\n",
    "# N random values of k2, g\n",
    "N = 100\n",
    "k2 = np.random.rand(N)*(0.6 - 0.1) + 0.1   # Love number, randomly selected 0.1-0.6\n",
    "# g/gll = 1 unless p2/p1 is 1.5-1.55, 2-2.05, then g/gll=0.3-1.0*gll\n",
    "if ((P2/P1 < 1.55) & (P2/P1 > 1.5)) | ((P2/P1 < 2.05) & (P2/P1 > 2.0)):\n",
    "    print(f\"P2/P1 = {P2/P1:.4}, g = 0.3-1.0 * gll\")\n",
    "    g = gll*(np.random.rand(N)*(1. - 0.3) + 0.3)\n",
    "else:\n",
    "    print(f\"P2/P1 = {P2/P1:.4}, g = 1 * gll\")\n",
    "    g = gll\n",
    "alpha1 = (0.5 * (mstar/m1) * (r1/a1)**3 * (k2/get_C(k2)) * w1).to(u.Myr**-1)\n",
    "alpha2 = (0.5 * (mstar/m2) * (r2/a2)**3 * (k2/get_C(k2)) * w2).to(u.Myr**-1)  #  np.random.normal(1.4e5, 3e4, N) * u.Myr**-1 # \n",
    "# print(f\"alpha d: {alpha1}\")\n",
    "# print(f\"alpha e: {alpha2}\")\n",
    "alpha_d_g = np.array([(alpha1 / gg).decompose() for gg in g])  # a/g for every alpha, g pair\n",
    "alpha_e_g = np.array([(alpha2 / gg).decompose() for gg in g])\n",
    "\n",
    "print(f\"Drawing from {N} values of k2\")\n",
    "print(f\"alpha_d/g: {(alpha_d_g).min():.4}--{(alpha_d_g).max():.4}\")\n",
    "print(f\"alpha_e/g: {(alpha_e_g).min():.4}--{(alpha_e_g).max():.4}\")\n",
    "\n",
    "obl1 = np.arccos(((2*alpha_d_g) - 1)**(-0.5))*(180/np.pi)\n",
    "obl2 = np.arccos(((2*alpha_e_g) - 1)**(-0.5))*(180/np.pi)\n",
    "print(f\"obliquity_d = {obl1.min():.4}--{obl1.max():.4} deg (P = {P1})\")\n",
    "print(f\"obliquity_e = {obl2.min():.4}--{obl2.max():.4} deg (P = {P2})\")"
   ]
  },
  {
   "cell_type": "markdown",
   "id": "4070ef05-acf7-44d1-9d58-c2ec51c28ef1",
   "metadata": {},
   "source": [
    "### Planet tilt ($\\omega$) vs. day length (n)\n",
    "Obliquity vs. spin frequency\n",
    "\n",
    "$$ \\frac{w_{eq}}{n} = \\frac{N(e)}{\\Omega(e)}\\frac{2cos~\\epsilon}{1 + cos^2\\epsilon} $$\n",
    "\n",
    "$ N(e=0) = \\Omega(e=0) = 1$\n",
    "\n",
    "#### Solving for $\\epsilon$ when $w_{eq}/n = 1$:\n",
    "\n",
    "$$ \\epsilon = cos^{-1} \\left( \\frac{N(e)}{\\Omega(e)} \\pm  \\sqrt{\\left( \\frac{N(e)}{\\Omega(e)}\\right) ^2 - 1} ~\\right)$$ \n",
    "\n",
    "but the part under the radical is complex, so it's actually\n",
    "\n",
    "$$ \\epsilon = cos^{-1} \\left( \\frac{N(e)}{\\Omega(e)}\\right) $$\n",
    "\n",
    "I think this makes sense because for $e=0$, $\\frac{N(e)}{\\Omega(e)} = 1$, so $\\epsilon = 0$, so a tidally-locked planet has no obliquity, which is true. "
   ]
  },
  {
   "cell_type": "code",
   "execution_count": 16,
   "id": "7a4906b1-3fe4-4cf8-8df9-59ef4c3bbc05",
   "metadata": {
    "tags": []
   },
   "outputs": [
    {
     "data": {
      "text/plain": [
       "Text(0.5, 1.0, 'Mean rotation rate vs. travel rate for all obliquities @ e=0')"
      ]
     },
     "execution_count": 16,
     "metadata": {},
     "output_type": "execute_result"
    },
    {
     "data": {
      "image/png": "[encoded data removed]",
      "text/plain": [
       "<Figure size 432x288 with 1 Axes>"
      ]
     },
     "metadata": {
      "needs_background": "light"
     },
     "output_type": "display_data"
    }
   ],
   "source": [
    "obl = np.arange(0,100,10) * np.pi/180\n",
    "weq_n = (2 * np.cos(obl)) / (1 + np.cos(obl)**2)\n",
    "\n",
    "plt.plot(obl*180/np.pi, weq_n)\n",
    "plt.xlabel(\"obliquity [deg]\")\n",
    "plt.ylabel(r\"$\\omega_{eq}/n$\")\n",
    "plt.title(\"Mean rotation rate vs. travel rate for all obliquities @ e=0\")"
   ]
  },
  {
   "cell_type": "code",
   "execution_count": 17,
   "id": "e746d0d0-4e77-48ed-a972-779d69fb55ae",
   "metadata": {},
   "outputs": [],
   "source": [
    "_obl = np.linspace(0,90,100) * np.pi/180\n",
    "_ecc = np.linspace(0,0.10,100)\n",
    "\n",
    "obl, ecc = np.meshgrid(_obl, _ecc)\n",
    "\n",
    "Ne = (1 + (15/2)*ecc**2 + (45/8)*ecc**4 + (5/16)*ecc**6) / (1 - ecc**2)**6\n",
    "Omegae = (1 + 3*ecc*2 + (3/8)*ecc**4) / (1 - ecc**2)**(9/2)\n",
    "weq_n =  (2 * np.cos(obl)) / (1 + np.cos(obl)**2)# * (Ne / Omegae) \n",
    "\n",
    "obl_lock = np.arccos((Ne / Omegae))  # + np.sqrt((Ne/Omegae)**2 - 1)"
   ]
  },
  {
   "cell_type": "markdown",
   "id": "2570cf7b-9f35-4f4c-a7f9-46553e0621bc",
   "metadata": {},
   "source": [
    "**Note** The plot has a gradient with increasing eccentricity if you include the \n",
    "$\\frac{N(e)}{\\Omega(e)}$ term in the calculation for $w_{eq}/n$."
   ]
  },
  {
   "cell_type": "code",
   "execution_count": 18,
   "id": "361eff7e-783a-43d9-ad75-a149e413e702",
   "metadata": {},
   "outputs": [
    {
     "data": {
      "image/png": "[encoded data removed]",
      "text/plain": [
       "<Figure size 432x288 with 2 Axes>"
      ]
     },
     "metadata": {
      "needs_background": "light"
     },
     "output_type": "display_data"
    }
   ],
   "source": [
    "fig, ax = plt.subplots()\n",
    "plt.grid(False)\n",
    "\n",
    "pcm = ax.pcolormesh(ecc, obl*(180/np.pi), weq_n, \n",
    "                    cmap='PuBuGn_r', vmin=0, vmax=1.05)\n",
    "plt.plot(np.unique(ecc.flatten()), np.unique((obl_lock.flatten())) * (180/np.pi), '-')\n",
    "\n",
    "plt.text(0.055, 48, r\"$w_{eq} = n$ (tidally-locked)\")\n",
    "plt.xlabel(\"eccentricity\")\n",
    "plt.ylabel(\"obliquity [deg]\")\n",
    "plt.title(r\"$\\omega_{eq}/n$ (mean rotation rate per travel rate) \")\n",
    "cb = fig.colorbar(pcm)\n",
    "cb.set_label(r\"$w_{eq}/n$\")"
   ]
  },
  {
   "cell_type": "code",
   "execution_count": 19,
   "id": "59d1d174-9d4d-4c4e-87e7-70c01b2426f6",
   "metadata": {},
   "outputs": [],
   "source": [
    "mass_data = pd.read_table(\"./ajaa71eft1_mrt.txt\", header=70, usecols=[0])\n",
    "# ecc_data = pd.read_table(\"./ajaa71eft2_mrt.txt\", header=28)"
   ]
  },
  {
   "cell_type": "code",
   "execution_count": 20,
   "id": "03484f44-3819-4be7-b276-ffeab8f4a12b",
   "metadata": {},
   "outputs": [
    {
     "data": {
      "text/plain": [
       "array([['Kepler-9 b    1  19.243  8.2 1.0  0.7    1.0 0.1  0.1  0  43.5   2.7  3.3    0.4   0.1  0.1  0  43.4   2.7  3.2    0.4    0.1  0.1  Ho10; Dr14; Bo14        '],\n",
       "       ['Kepler-9 c    1  38.969  8.3 0.8  0.9    1.0 0.1  0.1  0  29.9   1.8  2.3    0.3   0.1  0.1  0  29.9   1.9  2.2    0.3    0.1  0.1  Ho10; Dr14; Bo14        '],\n",
       "       ['Kepler-11 b   0  10.304  1.9 0.1  0.1    0.9 0.1  0.1  0   0.7   0.3  0.2    0.6   0.3  0.2  0   1.2   0.6  0.5    1.0    0.5  0.5  Li11; Mig12; Li13; Bo14 '],\n",
       "       ['Kepler-11 c   0  13.025  3.0 0.2  0.2    0.9 0.1  0.1  0   1.8   0.9  0.5    0.4   0.2  0.1  0   3.4   1.4  1.5    0.7    0.4  0.3  Li11; Mig12; Li13; Bo14 '],\n",
       "       ['Kepler-11 d   1  22.687  3.3 0.2  0.2    0.9 0.1  0.1  0   6.8   0.7  0.8    1.0   0.2  0.2  0   6.9   0.8  0.8    1.0    0.3  0.2  Li11; Mig12; Li13; Bo14 ']],\n",
       "      dtype=object)"
      ]
     },
     "execution_count": 20,
     "metadata": {},
     "output_type": "execute_result"
    }
   ],
   "source": [
    "mass_data.to_numpy()[0:5]"
   ]
  },
  {
   "cell_type": "markdown",
   "id": "62f21a5a-208f-4658-a760-944a231b4e70",
   "metadata": {},
   "source": [
    "### g and $\\alpha$ connecting to $\\omega_{eq}/n$ \n",
    "\n",
    "If $T_g \\approx T_{\\alpha}$, that is **resonance** in Cassini state 2, \n",
    "and _**not**_ tidal locking, right?  This is just saying the precession period of the orbit is the same as the precession period of the planet spin. Tidal locking is when $w_{eq} = n$\n",
    "\n",
    "Sarah has gone ahead and calculated $g$ and $\\alpha_{sync} = a(n\\omega)$ for M dwarfs which are also in the paper by Hadden & Lithwick. \n",
    "\n",
    "For $e \\approx 0$, she used an expression which has $\\alpha_{syn},~g$ to get $\\epsilon$:\n",
    "\n",
    "$$ cos~\\epsilon = \\left( \\frac{1}{2\\alpha_{syn}/|g| - 1} \\right)^{1/2} $$. \n",
    "\n",
    "I will now look up the values of $w_{eq}/n$."
   ]
  },
  {
   "cell_type": "code",
   "execution_count": 21,
   "id": "82413e3f-9d61-499e-b5ce-e985e2bb3f64",
   "metadata": {},
   "outputs": [],
   "source": [
    "# Trappist-1 values for planet b, planet c\n",
    "pl_c_obl = [69.7, 80.5, 78.3, 85.0] # min, max b-c; min-max c-d obliquity\n",
    "pl_c_ag = [4.66, 19., 12.7, 66.6] # min, max b-c; min-max c-d  alpha/g\n",
    "pl_c_n = 2*np.pi / (2.42 * u.d) "
   ]
  },
  {
   "cell_type": "code",
   "execution_count": 23,
   "id": "4d7fcc2a-7308-450e-8cfc-d8d31852b3ef",
   "metadata": {},
   "outputs": [
    {
     "name": "stdout",
     "output_type": "stream",
     "text": [
      "Planet c rotation period range given b-c interactions: [3.92202834 7.53092573] d\n",
      "Planet c rotation period range given c-d interactions: [ 6.21221586 13.71923397] d\n"
     ]
    },
    {
     "data": {
      "image/png": "[encoded data removed]",
      "text/plain": [
       "<Figure size 432x288 with 1 Axes>"
      ]
     },
     "metadata": {
      "needs_background": "light"
     },
     "output_type": "display_data"
    }
   ],
   "source": [
    "plt.rc('font', size=14) \n",
    "plt.xlabel(\"obliquity [deg]\")\n",
    "plt.ylabel(r\"$\\omega_{eq}/n$\")\n",
    "plt.title(\"Mean rotation rate vs. travel rate for all obliquities @ e=0\")\n",
    "\n",
    "obl = np.arange(0,95,0.1) * np.pi/180\n",
    "weq_n = (2 * np.cos(obl)) / (1 + np.cos(obl)**2)\n",
    "\n",
    "# mask for allowed obliquities for each planet-planet interaction\n",
    "bc_obl_mask = (obl > pl_c_obl[0]*(np.pi/180) )& (obl < pl_c_obl[1]*(np.pi/180)) # deg\n",
    "cd_obl_mask = (obl > pl_c_obl[2]*(np.pi/180) )& (obl < pl_c_obl[3]*(np.pi/180)) # deg\n",
    "\n",
    "# b-on-c\n",
    "weq_n_bc = [weq_n[bc_obl_mask].min(), weq_n[bc_obl_mask].max()]\n",
    "weq_bc = (weq_n_bc * u.rad) * pl_c_n\n",
    "print(f\"Planet c rotation period range given b-c interactions: {np.sort(np.pi*2*u.rad/weq_bc)}\")\n",
    "plt.scatter(obl[bc_obl_mask].min()*(180/np.pi), weq_n[bc_obl_mask].max(),c='grey')\n",
    "plt.scatter(obl[bc_obl_mask].max()*(180/np.pi), weq_n[bc_obl_mask].min(),c='grey')\n",
    "plt.text(5,0.2, r\"$\\omega_{eq, b-c} = $\"+f\"{weq_bc[0].value:.3}-{weq_bc[1]:.3}\", c='grey')\n",
    "\n",
    "# d-on-c\n",
    "weq_n_cd = [weq_n[cd_obl_mask].min(), weq_n[cd_obl_mask].max()]  # range of weq/n\n",
    "weq_cd = (weq_n_cd * u.rad) * pl_c_n    \n",
    "print(f\"Planet c rotation period range given c-d interactions: {np.sort(np.pi*2*u.rad/weq_cd)}\")\n",
    "plt.scatter(obl[cd_obl_mask].min()*(180/np.pi), weq_n[cd_obl_mask].max(),c='teal')\n",
    "plt.scatter(obl[cd_obl_mask].max()*(180/np.pi), weq_n[cd_obl_mask].min(),c='teal')\n",
    "plt.text(5,0.11, r\"$\\omega_{eq, c-d} = $\"+f\"{weq_cd[0].value:.3}-{weq_cd[1]:.3}\", c='teal')\n",
    "\n",
    "# plot obliquity-weq/n curve\n",
    "plt.plot(obl*180/np.pi, weq_n)\n",
    "\n",
    "plt.vlines(pl_c_obl[0:2], 0,1, linestyles='--', colors='grey')\n",
    "plt.text(72, 0.5, r\"$\\epsilon_{bc}$\", c='grey')\n",
    "plt.vlines(pl_c_obl[2:], 0,1, linestyles='--', colors='teal')\n",
    "plt.text(82, 0.5, r\"$\\epsilon_{dc}$\", c='teal');\n",
    "\n",
    "saveplot=False\n",
    "if saveplot:\n",
    "    folder = f\"TRAPPIST-1\"\n",
    "    if not os.path.exists(folder):\n",
    "        print(f\"making {folder}\")\n",
    "        os.makedirs(f\"{folder}/plots\")\n",
    "    filename=f\"{folder}/plots/{folder}_obliquity_weqn.pdf\"\n",
    "    plt.savefig(filename, bbox_inches='tight',transparent=True)\n",
    "    print(f\"saving figure {filename}\")"
   ]
  },
  {
   "cell_type": "code",
   "execution_count": null,
   "id": "816abdd1-da82-4c8d-84f5-c2623f66a6de",
   "metadata": {},
   "outputs": [],
   "source": []
  }
 ],
 "metadata": {
  "kernelspec": {
   "display_name": "Python 3 (ipykernel)",
   "language": "python",
   "name": "python3"
  },
  "language_info": {
   "codemirror_mode": {
    "name": "ipython",
    "version": 3
   },
   "file_extension": ".py",
   "mimetype": "text/x-python",
   "name": "python",
   "nbconvert_exporter": "python",
   "pygments_lexer": "ipython3",
   "version": "3.8.13"
  }
 },
 "nbformat": 4,
 "nbformat_minor": 5
}
